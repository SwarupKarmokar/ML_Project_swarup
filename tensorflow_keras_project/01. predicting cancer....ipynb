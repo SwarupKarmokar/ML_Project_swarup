{
 "cells": [
  {
   "cell_type": "code",
   "execution_count": 1,
   "metadata": {},
   "outputs": [],
   "source": [
    "import pandas as pd\n",
    "import matplotlib.pyplot as plt \n",
    "import seaborn as sns"
   ]
  },
  {
   "cell_type": "code",
   "execution_count": 2,
   "metadata": {},
   "outputs": [],
   "source": [
    "df = pd.read_csv('../DATA/cancer_classification.csv')"
   ]
  },
  {
   "cell_type": "code",
   "execution_count": 3,
   "metadata": {},
   "outputs": [
    {
     "data": {
      "text/html": [
       "<div>\n",
       "<style scoped>\n",
       "    .dataframe tbody tr th:only-of-type {\n",
       "        vertical-align: middle;\n",
       "    }\n",
       "\n",
       "    .dataframe tbody tr th {\n",
       "        vertical-align: top;\n",
       "    }\n",
       "\n",
       "    .dataframe thead th {\n",
       "        text-align: right;\n",
       "    }\n",
       "</style>\n",
       "<table border=\"1\" class=\"dataframe\">\n",
       "  <thead>\n",
       "    <tr style=\"text-align: right;\">\n",
       "      <th></th>\n",
       "      <th>mean radius</th>\n",
       "      <th>mean texture</th>\n",
       "      <th>mean perimeter</th>\n",
       "      <th>mean area</th>\n",
       "      <th>mean smoothness</th>\n",
       "      <th>mean compactness</th>\n",
       "      <th>mean concavity</th>\n",
       "      <th>mean concave points</th>\n",
       "      <th>mean symmetry</th>\n",
       "      <th>mean fractal dimension</th>\n",
       "      <th>...</th>\n",
       "      <th>worst texture</th>\n",
       "      <th>worst perimeter</th>\n",
       "      <th>worst area</th>\n",
       "      <th>worst smoothness</th>\n",
       "      <th>worst compactness</th>\n",
       "      <th>worst concavity</th>\n",
       "      <th>worst concave points</th>\n",
       "      <th>worst symmetry</th>\n",
       "      <th>worst fractal dimension</th>\n",
       "      <th>benign_0__mal_1</th>\n",
       "    </tr>\n",
       "  </thead>\n",
       "  <tbody>\n",
       "    <tr>\n",
       "      <th>0</th>\n",
       "      <td>17.99</td>\n",
       "      <td>10.38</td>\n",
       "      <td>122.80</td>\n",
       "      <td>1001.0</td>\n",
       "      <td>0.11840</td>\n",
       "      <td>0.27760</td>\n",
       "      <td>0.3001</td>\n",
       "      <td>0.14710</td>\n",
       "      <td>0.2419</td>\n",
       "      <td>0.07871</td>\n",
       "      <td>...</td>\n",
       "      <td>17.33</td>\n",
       "      <td>184.60</td>\n",
       "      <td>2019.0</td>\n",
       "      <td>0.1622</td>\n",
       "      <td>0.6656</td>\n",
       "      <td>0.7119</td>\n",
       "      <td>0.2654</td>\n",
       "      <td>0.4601</td>\n",
       "      <td>0.11890</td>\n",
       "      <td>0</td>\n",
       "    </tr>\n",
       "    <tr>\n",
       "      <th>1</th>\n",
       "      <td>20.57</td>\n",
       "      <td>17.77</td>\n",
       "      <td>132.90</td>\n",
       "      <td>1326.0</td>\n",
       "      <td>0.08474</td>\n",
       "      <td>0.07864</td>\n",
       "      <td>0.0869</td>\n",
       "      <td>0.07017</td>\n",
       "      <td>0.1812</td>\n",
       "      <td>0.05667</td>\n",
       "      <td>...</td>\n",
       "      <td>23.41</td>\n",
       "      <td>158.80</td>\n",
       "      <td>1956.0</td>\n",
       "      <td>0.1238</td>\n",
       "      <td>0.1866</td>\n",
       "      <td>0.2416</td>\n",
       "      <td>0.1860</td>\n",
       "      <td>0.2750</td>\n",
       "      <td>0.08902</td>\n",
       "      <td>0</td>\n",
       "    </tr>\n",
       "    <tr>\n",
       "      <th>2</th>\n",
       "      <td>19.69</td>\n",
       "      <td>21.25</td>\n",
       "      <td>130.00</td>\n",
       "      <td>1203.0</td>\n",
       "      <td>0.10960</td>\n",
       "      <td>0.15990</td>\n",
       "      <td>0.1974</td>\n",
       "      <td>0.12790</td>\n",
       "      <td>0.2069</td>\n",
       "      <td>0.05999</td>\n",
       "      <td>...</td>\n",
       "      <td>25.53</td>\n",
       "      <td>152.50</td>\n",
       "      <td>1709.0</td>\n",
       "      <td>0.1444</td>\n",
       "      <td>0.4245</td>\n",
       "      <td>0.4504</td>\n",
       "      <td>0.2430</td>\n",
       "      <td>0.3613</td>\n",
       "      <td>0.08758</td>\n",
       "      <td>0</td>\n",
       "    </tr>\n",
       "    <tr>\n",
       "      <th>3</th>\n",
       "      <td>11.42</td>\n",
       "      <td>20.38</td>\n",
       "      <td>77.58</td>\n",
       "      <td>386.1</td>\n",
       "      <td>0.14250</td>\n",
       "      <td>0.28390</td>\n",
       "      <td>0.2414</td>\n",
       "      <td>0.10520</td>\n",
       "      <td>0.2597</td>\n",
       "      <td>0.09744</td>\n",
       "      <td>...</td>\n",
       "      <td>26.50</td>\n",
       "      <td>98.87</td>\n",
       "      <td>567.7</td>\n",
       "      <td>0.2098</td>\n",
       "      <td>0.8663</td>\n",
       "      <td>0.6869</td>\n",
       "      <td>0.2575</td>\n",
       "      <td>0.6638</td>\n",
       "      <td>0.17300</td>\n",
       "      <td>0</td>\n",
       "    </tr>\n",
       "    <tr>\n",
       "      <th>4</th>\n",
       "      <td>20.29</td>\n",
       "      <td>14.34</td>\n",
       "      <td>135.10</td>\n",
       "      <td>1297.0</td>\n",
       "      <td>0.10030</td>\n",
       "      <td>0.13280</td>\n",
       "      <td>0.1980</td>\n",
       "      <td>0.10430</td>\n",
       "      <td>0.1809</td>\n",
       "      <td>0.05883</td>\n",
       "      <td>...</td>\n",
       "      <td>16.67</td>\n",
       "      <td>152.20</td>\n",
       "      <td>1575.0</td>\n",
       "      <td>0.1374</td>\n",
       "      <td>0.2050</td>\n",
       "      <td>0.4000</td>\n",
       "      <td>0.1625</td>\n",
       "      <td>0.2364</td>\n",
       "      <td>0.07678</td>\n",
       "      <td>0</td>\n",
       "    </tr>\n",
       "  </tbody>\n",
       "</table>\n",
       "<p>5 rows × 31 columns</p>\n",
       "</div>"
      ],
      "text/plain": [
       "   mean radius  mean texture  mean perimeter  mean area  mean smoothness  \\\n",
       "0        17.99         10.38          122.80     1001.0          0.11840   \n",
       "1        20.57         17.77          132.90     1326.0          0.08474   \n",
       "2        19.69         21.25          130.00     1203.0          0.10960   \n",
       "3        11.42         20.38           77.58      386.1          0.14250   \n",
       "4        20.29         14.34          135.10     1297.0          0.10030   \n",
       "\n",
       "   mean compactness  mean concavity  mean concave points  mean symmetry  \\\n",
       "0           0.27760          0.3001              0.14710         0.2419   \n",
       "1           0.07864          0.0869              0.07017         0.1812   \n",
       "2           0.15990          0.1974              0.12790         0.2069   \n",
       "3           0.28390          0.2414              0.10520         0.2597   \n",
       "4           0.13280          0.1980              0.10430         0.1809   \n",
       "\n",
       "   mean fractal dimension  ...  worst texture  worst perimeter  worst area  \\\n",
       "0                 0.07871  ...          17.33           184.60      2019.0   \n",
       "1                 0.05667  ...          23.41           158.80      1956.0   \n",
       "2                 0.05999  ...          25.53           152.50      1709.0   \n",
       "3                 0.09744  ...          26.50            98.87       567.7   \n",
       "4                 0.05883  ...          16.67           152.20      1575.0   \n",
       "\n",
       "   worst smoothness  worst compactness  worst concavity  worst concave points  \\\n",
       "0            0.1622             0.6656           0.7119                0.2654   \n",
       "1            0.1238             0.1866           0.2416                0.1860   \n",
       "2            0.1444             0.4245           0.4504                0.2430   \n",
       "3            0.2098             0.8663           0.6869                0.2575   \n",
       "4            0.1374             0.2050           0.4000                0.1625   \n",
       "\n",
       "   worst symmetry  worst fractal dimension  benign_0__mal_1  \n",
       "0          0.4601                  0.11890                0  \n",
       "1          0.2750                  0.08902                0  \n",
       "2          0.3613                  0.08758                0  \n",
       "3          0.6638                  0.17300                0  \n",
       "4          0.2364                  0.07678                0  \n",
       "\n",
       "[5 rows x 31 columns]"
      ]
     },
     "execution_count": 3,
     "metadata": {},
     "output_type": "execute_result"
    }
   ],
   "source": [
    "df.head()"
   ]
  },
  {
   "cell_type": "code",
   "execution_count": 4,
   "metadata": {},
   "outputs": [],
   "source": [
    "from sklearn.model_selection import train_test_split"
   ]
  },
  {
   "cell_type": "code",
   "execution_count": 5,
   "metadata": {},
   "outputs": [],
   "source": [
    "X = df.drop('benign_0__mal_1',axis = 1).values"
   ]
  },
  {
   "cell_type": "code",
   "execution_count": 6,
   "metadata": {},
   "outputs": [],
   "source": [
    "y = df['benign_0__mal_1'].values"
   ]
  },
  {
   "cell_type": "code",
   "execution_count": 7,
   "metadata": {},
   "outputs": [],
   "source": [
    "X_train, X_test, y_train, y_test = train_test_split(X, y, test_size=0.25, random_state=101)"
   ]
  },
  {
   "cell_type": "code",
   "execution_count": 8,
   "metadata": {},
   "outputs": [],
   "source": [
    "from sklearn.preprocessing import MinMaxScaler"
   ]
  },
  {
   "cell_type": "code",
   "execution_count": 9,
   "metadata": {},
   "outputs": [],
   "source": [
    "scaler = MinMaxScaler()"
   ]
  },
  {
   "cell_type": "code",
   "execution_count": 10,
   "metadata": {},
   "outputs": [],
   "source": [
    "X_train = scaler.fit_transform(X_train)"
   ]
  },
  {
   "cell_type": "code",
   "execution_count": 11,
   "metadata": {},
   "outputs": [],
   "source": [
    "X_test = scaler.transform(X_test)"
   ]
  },
  {
   "cell_type": "code",
   "execution_count": 12,
   "metadata": {},
   "outputs": [],
   "source": [
    "from tensorflow.keras.models import Sequential\n",
    "from tensorflow.keras.layers import Dense,Dropout\n",
    "from tensorflow.keras.callbacks import EarlyStopping"
   ]
  },
  {
   "cell_type": "code",
   "execution_count": 13,
   "metadata": {},
   "outputs": [
    {
     "data": {
      "text/plain": [
       "(426, 30)"
      ]
     },
     "execution_count": 13,
     "metadata": {},
     "output_type": "execute_result"
    }
   ],
   "source": [
    "X_train.shape"
   ]
  },
  {
   "cell_type": "code",
   "execution_count": 14,
   "metadata": {},
   "outputs": [],
   "source": [
    "my_model = Sequential()\n",
    "\n",
    "my_model.add(Dense(30, activation='relu'))\n",
    "my_model.add(Dropout(0.5))\n",
    "my_model.add(Dense(15, activation='relu'))\n",
    "my_model.add(Dropout(0.5))\n",
    "my_model.add(Dense(1, activation='sigmoid'))\n",
    "\n",
    "my_model.compile(optimizer = 'adam', loss = 'binary_crossentropy')"
   ]
  },
  {
   "cell_type": "code",
   "execution_count": 15,
   "metadata": {},
   "outputs": [],
   "source": [
    "early_stop = EarlyStopping(monitor='val_loss', mode='min', verbose = 1, patience = 25)"
   ]
  },
  {
   "cell_type": "code",
   "execution_count": 16,
   "metadata": {},
   "outputs": [
    {
     "name": "stdout",
     "output_type": "stream",
     "text": [
      "Train on 426 samples, validate on 143 samples\n",
      "Epoch 1/600\n",
      "426/426 [==============================] - 1s 2ms/sample - loss: 0.6996 - val_loss: 0.6767\n",
      "Epoch 2/600\n",
      "426/426 [==============================] - 0s 148us/sample - loss: 0.6865 - val_loss: 0.6613\n",
      "Epoch 3/600\n",
      "426/426 [==============================] - 0s 126us/sample - loss: 0.6672 - val_loss: 0.6451\n",
      "Epoch 4/600\n",
      "426/426 [==============================] - 0s 116us/sample - loss: 0.6565 - val_loss: 0.6309\n",
      "Epoch 5/600\n",
      "426/426 [==============================] - 0s 117us/sample - loss: 0.6372 - val_loss: 0.6108\n",
      "Epoch 6/600\n",
      "426/426 [==============================] - 0s 112us/sample - loss: 0.6159 - val_loss: 0.5837\n",
      "Epoch 7/600\n",
      "426/426 [==============================] - 0s 129us/sample - loss: 0.5878 - val_loss: 0.5523\n",
      "Epoch 8/600\n",
      "426/426 [==============================] - 0s 112us/sample - loss: 0.5703 - val_loss: 0.5241\n",
      "Epoch 9/600\n",
      "426/426 [==============================] - 0s 115us/sample - loss: 0.5496 - val_loss: 0.4886\n",
      "Epoch 10/600\n",
      "426/426 [==============================] - 0s 115us/sample - loss: 0.5181 - val_loss: 0.4535\n",
      "Epoch 11/600\n",
      "426/426 [==============================] - 0s 117us/sample - loss: 0.4928 - val_loss: 0.4215\n",
      "Epoch 12/600\n",
      "426/426 [==============================] - 0s 117us/sample - loss: 0.4725 - val_loss: 0.3943\n",
      "Epoch 13/600\n",
      "426/426 [==============================] - 0s 109us/sample - loss: 0.4537 - val_loss: 0.3647\n",
      "Epoch 14/600\n",
      "426/426 [==============================] - 0s 117us/sample - loss: 0.4467 - val_loss: 0.3484\n",
      "Epoch 15/600\n",
      "426/426 [==============================] - 0s 111us/sample - loss: 0.4059 - val_loss: 0.3303\n",
      "Epoch 16/600\n",
      "426/426 [==============================] - 0s 124us/sample - loss: 0.4064 - val_loss: 0.3164\n",
      "Epoch 17/600\n",
      "426/426 [==============================] - 0s 143us/sample - loss: 0.3741 - val_loss: 0.2932\n",
      "Epoch 18/600\n",
      "426/426 [==============================] - 0s 129us/sample - loss: 0.3370 - val_loss: 0.2655\n",
      "Epoch 19/600\n",
      "426/426 [==============================] - 0s 115us/sample - loss: 0.3397 - val_loss: 0.2470\n",
      "Epoch 20/600\n",
      "426/426 [==============================] - 0s 123us/sample - loss: 0.3203 - val_loss: 0.2364\n",
      "Epoch 21/600\n",
      "426/426 [==============================] - 0s 148us/sample - loss: 0.3210 - val_loss: 0.2216\n",
      "Epoch 22/600\n",
      "426/426 [==============================] - 0s 142us/sample - loss: 0.3104 - val_loss: 0.2089\n",
      "Epoch 23/600\n",
      "426/426 [==============================] - 0s 147us/sample - loss: 0.3016 - val_loss: 0.1996\n",
      "Epoch 24/600\n",
      "426/426 [==============================] - 0s 152us/sample - loss: 0.3132 - val_loss: 0.1954\n",
      "Epoch 25/600\n",
      "426/426 [==============================] - 0s 155us/sample - loss: 0.2713 - val_loss: 0.1938\n",
      "Epoch 26/600\n",
      "426/426 [==============================] - 0s 131us/sample - loss: 0.2882 - val_loss: 0.1796\n",
      "Epoch 27/600\n",
      "426/426 [==============================] - 0s 131us/sample - loss: 0.2746 - val_loss: 0.1765\n",
      "Epoch 28/600\n",
      "426/426 [==============================] - 0s 117us/sample - loss: 0.2436 - val_loss: 0.1671\n",
      "Epoch 29/600\n",
      "426/426 [==============================] - 0s 129us/sample - loss: 0.2580 - val_loss: 0.1625\n",
      "Epoch 30/600\n",
      "426/426 [==============================] - 0s 115us/sample - loss: 0.2382 - val_loss: 0.1697\n",
      "Epoch 31/600\n",
      "426/426 [==============================] - 0s 117us/sample - loss: 0.2326 - val_loss: 0.1521\n",
      "Epoch 32/600\n",
      "426/426 [==============================] - 0s 124us/sample - loss: 0.2550 - val_loss: 0.1467\n",
      "Epoch 33/600\n",
      "426/426 [==============================] - 0s 116us/sample - loss: 0.2377 - val_loss: 0.1506\n",
      "Epoch 34/600\n",
      "426/426 [==============================] - 0s 122us/sample - loss: 0.2062 - val_loss: 0.1396\n",
      "Epoch 35/600\n",
      "426/426 [==============================] - 0s 120us/sample - loss: 0.2494 - val_loss: 0.1362\n",
      "Epoch 36/600\n",
      "426/426 [==============================] - 0s 117us/sample - loss: 0.2297 - val_loss: 0.1346\n",
      "Epoch 37/600\n",
      "426/426 [==============================] - 0s 129us/sample - loss: 0.2254 - val_loss: 0.1310\n",
      "Epoch 38/600\n",
      "426/426 [==============================] - 0s 136us/sample - loss: 0.2003 - val_loss: 0.1313\n",
      "Epoch 39/600\n",
      "426/426 [==============================] - 0s 126us/sample - loss: 0.1869 - val_loss: 0.1337\n",
      "Epoch 40/600\n",
      "426/426 [==============================] - 0s 136us/sample - loss: 0.1658 - val_loss: 0.1251\n",
      "Epoch 41/600\n",
      "426/426 [==============================] - 0s 115us/sample - loss: 0.2375 - val_loss: 0.1232\n",
      "Epoch 42/600\n",
      "426/426 [==============================] - 0s 124us/sample - loss: 0.1750 - val_loss: 0.1242\n",
      "Epoch 43/600\n",
      "426/426 [==============================] - 0s 133us/sample - loss: 0.1883 - val_loss: 0.1277\n",
      "Epoch 44/600\n",
      "426/426 [==============================] - 0s 117us/sample - loss: 0.1719 - val_loss: 0.1165\n",
      "Epoch 45/600\n",
      "426/426 [==============================] - 0s 126us/sample - loss: 0.1671 - val_loss: 0.1208\n",
      "Epoch 46/600\n",
      "426/426 [==============================] - 0s 128us/sample - loss: 0.1741 - val_loss: 0.1225\n",
      "Epoch 47/600\n",
      "426/426 [==============================] - 0s 126us/sample - loss: 0.1776 - val_loss: 0.1137\n",
      "Epoch 48/600\n",
      "426/426 [==============================] - 0s 129us/sample - loss: 0.1595 - val_loss: 0.1093\n",
      "Epoch 49/600\n",
      "426/426 [==============================] - 0s 117us/sample - loss: 0.1558 - val_loss: 0.1144\n",
      "Epoch 50/600\n",
      "426/426 [==============================] - 0s 112us/sample - loss: 0.1790 - val_loss: 0.1131\n",
      "Epoch 51/600\n",
      "426/426 [==============================] - 0s 129us/sample - loss: 0.1718 - val_loss: 0.1215\n",
      "Epoch 52/600\n",
      "426/426 [==============================] - 0s 131us/sample - loss: 0.1518 - val_loss: 0.1038\n",
      "Epoch 53/600\n",
      "426/426 [==============================] - 0s 119us/sample - loss: 0.1556 - val_loss: 0.1118\n",
      "Epoch 54/600\n",
      "426/426 [==============================] - 0s 133us/sample - loss: 0.1210 - val_loss: 0.1096\n",
      "Epoch 55/600\n",
      "426/426 [==============================] - ETA: 0s - loss: 0.161 - 0s 138us/sample - loss: 0.1525 - val_loss: 0.1045\n",
      "Epoch 56/600\n",
      "426/426 [==============================] - 0s 126us/sample - loss: 0.1651 - val_loss: 0.1071\n",
      "Epoch 57/600\n",
      "426/426 [==============================] - 0s 111us/sample - loss: 0.1446 - val_loss: 0.1052\n",
      "Epoch 58/600\n",
      "426/426 [==============================] - 0s 113us/sample - loss: 0.1537 - val_loss: 0.1098\n",
      "Epoch 59/600\n",
      "426/426 [==============================] - 0s 126us/sample - loss: 0.1352 - val_loss: 0.1011\n",
      "Epoch 60/600\n",
      "426/426 [==============================] - 0s 110us/sample - loss: 0.1569 - val_loss: 0.1147\n",
      "Epoch 61/600\n",
      "426/426 [==============================] - 0s 106us/sample - loss: 0.1330 - val_loss: 0.1037\n",
      "Epoch 62/600\n",
      "426/426 [==============================] - 0s 110us/sample - loss: 0.1276 - val_loss: 0.0978\n",
      "Epoch 63/600\n",
      "426/426 [==============================] - 0s 110us/sample - loss: 0.1349 - val_loss: 0.1066\n",
      "Epoch 64/600\n",
      "426/426 [==============================] - 0s 112us/sample - loss: 0.1328 - val_loss: 0.0978\n",
      "Epoch 65/600\n",
      "426/426 [==============================] - 0s 112us/sample - loss: 0.1538 - val_loss: 0.0988\n",
      "Epoch 66/600\n",
      "426/426 [==============================] - 0s 112us/sample - loss: 0.1258 - val_loss: 0.1025\n",
      "Epoch 67/600\n",
      "426/426 [==============================] - 0s 112us/sample - loss: 0.1239 - val_loss: 0.0991\n",
      "Epoch 68/600\n",
      "426/426 [==============================] - 0s 145us/sample - loss: 0.1212 - val_loss: 0.1056\n",
      "Epoch 69/600\n",
      "426/426 [==============================] - 0s 115us/sample - loss: 0.1398 - val_loss: 0.1033\n",
      "Epoch 70/600\n",
      "426/426 [==============================] - 0s 159us/sample - loss: 0.1477 - val_loss: 0.0934\n",
      "Epoch 71/600\n",
      "426/426 [==============================] - ETA: 0s - loss: 0.137 - 0s 124us/sample - loss: 0.1153 - val_loss: 0.0978\n",
      "Epoch 72/600\n",
      "426/426 [==============================] - 0s 117us/sample - loss: 0.1308 - val_loss: 0.0967\n",
      "Epoch 73/600\n",
      "426/426 [==============================] - 0s 109us/sample - loss: 0.1133 - val_loss: 0.0954\n",
      "Epoch 74/600\n",
      "426/426 [==============================] - 0s 110us/sample - loss: 0.1524 - val_loss: 0.0954\n",
      "Epoch 75/600\n",
      "426/426 [==============================] - 0s 112us/sample - loss: 0.1037 - val_loss: 0.1113\n",
      "Epoch 76/600\n",
      "426/426 [==============================] - 0s 133us/sample - loss: 0.1293 - val_loss: 0.0967\n",
      "Epoch 77/600\n"
     ]
    },
    {
     "name": "stdout",
     "output_type": "stream",
     "text": [
      "426/426 [==============================] - 0s 131us/sample - loss: 0.1276 - val_loss: 0.1114\n",
      "Epoch 78/600\n",
      "426/426 [==============================] - 0s 124us/sample - loss: 0.1064 - val_loss: 0.1033\n",
      "Epoch 79/600\n",
      "426/426 [==============================] - 0s 131us/sample - loss: 0.1196 - val_loss: 0.0978\n",
      "Epoch 80/600\n",
      "426/426 [==============================] - 0s 105us/sample - loss: 0.1156 - val_loss: 0.0940\n",
      "Epoch 81/600\n",
      "426/426 [==============================] - 0s 112us/sample - loss: 0.1312 - val_loss: 0.1012\n",
      "Epoch 82/600\n",
      "426/426 [==============================] - 0s 104us/sample - loss: 0.1177 - val_loss: 0.1168\n",
      "Epoch 83/600\n",
      "426/426 [==============================] - 0s 117us/sample - loss: 0.1033 - val_loss: 0.0915\n",
      "Epoch 84/600\n",
      "426/426 [==============================] - 0s 108us/sample - loss: 0.1160 - val_loss: 0.1030\n",
      "Epoch 85/600\n",
      "426/426 [==============================] - 0s 126us/sample - loss: 0.1091 - val_loss: 0.0927\n",
      "Epoch 86/600\n",
      "426/426 [==============================] - 0s 105us/sample - loss: 0.1386 - val_loss: 0.0898\n",
      "Epoch 87/600\n",
      "426/426 [==============================] - 0s 106us/sample - loss: 0.1268 - val_loss: 0.0907\n",
      "Epoch 88/600\n",
      "426/426 [==============================] - 0s 112us/sample - loss: 0.1166 - val_loss: 0.0951\n",
      "Epoch 89/600\n",
      "426/426 [==============================] - 0s 113us/sample - loss: 0.1001 - val_loss: 0.0920\n",
      "Epoch 90/600\n",
      "426/426 [==============================] - 0s 112us/sample - loss: 0.1096 - val_loss: 0.0933\n",
      "Epoch 91/600\n",
      "426/426 [==============================] - 0s 110us/sample - loss: 0.1008 - val_loss: 0.0971\n",
      "Epoch 92/600\n",
      "426/426 [==============================] - 0s 119us/sample - loss: 0.0892 - val_loss: 0.1014\n",
      "Epoch 93/600\n",
      "426/426 [==============================] - 0s 108us/sample - loss: 0.1120 - val_loss: 0.0883\n",
      "Epoch 94/600\n",
      "426/426 [==============================] - 0s 131us/sample - loss: 0.0985 - val_loss: 0.0894\n",
      "Epoch 95/600\n",
      "426/426 [==============================] - 0s 115us/sample - loss: 0.1053 - val_loss: 0.1020\n",
      "Epoch 96/600\n",
      "426/426 [==============================] - 0s 108us/sample - loss: 0.0923 - val_loss: 0.0886\n",
      "Epoch 97/600\n",
      "426/426 [==============================] - 0s 112us/sample - loss: 0.0974 - val_loss: 0.0884\n",
      "Epoch 98/600\n",
      "426/426 [==============================] - 0s 108us/sample - loss: 0.1032 - val_loss: 0.1047\n",
      "Epoch 99/600\n",
      "426/426 [==============================] - 0s 108us/sample - loss: 0.1014 - val_loss: 0.0889\n",
      "Epoch 100/600\n",
      "426/426 [==============================] - 0s 110us/sample - loss: 0.1218 - val_loss: 0.0905\n",
      "Epoch 101/600\n",
      "426/426 [==============================] - 0s 131us/sample - loss: 0.0867 - val_loss: 0.1030\n",
      "Epoch 102/600\n",
      "426/426 [==============================] - 0s 108us/sample - loss: 0.1046 - val_loss: 0.1055\n",
      "Epoch 103/600\n",
      "426/426 [==============================] - 0s 112us/sample - loss: 0.0745 - val_loss: 0.0958\n",
      "Epoch 104/600\n",
      "426/426 [==============================] - 0s 110us/sample - loss: 0.0918 - val_loss: 0.0916\n",
      "Epoch 105/600\n",
      "426/426 [==============================] - 0s 105us/sample - loss: 0.0887 - val_loss: 0.0939\n",
      "Epoch 106/600\n",
      "426/426 [==============================] - 0s 107us/sample - loss: 0.0773 - val_loss: 0.0914\n",
      "Epoch 107/600\n",
      "426/426 [==============================] - 0s 110us/sample - loss: 0.0930 - val_loss: 0.0942\n",
      "Epoch 108/600\n",
      "426/426 [==============================] - 0s 110us/sample - loss: 0.0998 - val_loss: 0.0951\n",
      "Epoch 109/600\n",
      "426/426 [==============================] - 0s 138us/sample - loss: 0.0861 - val_loss: 0.0933\n",
      "Epoch 110/600\n",
      "426/426 [==============================] - 0s 129us/sample - loss: 0.0907 - val_loss: 0.0956\n",
      "Epoch 111/600\n",
      "426/426 [==============================] - 0s 107us/sample - loss: 0.1025 - val_loss: 0.0998\n",
      "Epoch 112/600\n",
      "426/426 [==============================] - 0s 124us/sample - loss: 0.0978 - val_loss: 0.0995\n",
      "Epoch 113/600\n",
      "426/426 [==============================] - 0s 108us/sample - loss: 0.0972 - val_loss: 0.0979\n",
      "Epoch 114/600\n",
      "426/426 [==============================] - 0s 112us/sample - loss: 0.0837 - val_loss: 0.1056\n",
      "Epoch 115/600\n",
      "426/426 [==============================] - 0s 127us/sample - loss: 0.0784 - val_loss: 0.0959\n",
      "Epoch 116/600\n",
      "426/426 [==============================] - 0s 110us/sample - loss: 0.0724 - val_loss: 0.0953\n",
      "Epoch 117/600\n",
      "426/426 [==============================] - 0s 108us/sample - loss: 0.0798 - val_loss: 0.1204\n",
      "Epoch 118/600\n",
      "426/426 [==============================] - 0s 110us/sample - loss: 0.0972 - val_loss: 0.0969\n",
      "Epoch 00118: early stopping\n"
     ]
    },
    {
     "data": {
      "text/plain": [
       "<tensorflow.python.keras.callbacks.History at 0x2305b24ac88>"
      ]
     },
     "execution_count": 16,
     "metadata": {},
     "output_type": "execute_result"
    }
   ],
   "source": [
    "my_model.fit(X_train,y_train,validation_data = (X_test,y_test), epochs = 600, verbose = 1, callbacks = [early_stop])"
   ]
  },
  {
   "cell_type": "code",
   "execution_count": 17,
   "metadata": {},
   "outputs": [],
   "source": [
    "loss_df = pd.DataFrame(my_model.history.history)"
   ]
  },
  {
   "cell_type": "code",
   "execution_count": 18,
   "metadata": {},
   "outputs": [
    {
     "data": {
      "text/plain": [
       "<matplotlib.axes._subplots.AxesSubplot at 0x2305c83a948>"
      ]
     },
     "execution_count": 18,
     "metadata": {},
     "output_type": "execute_result"
    },
    {
     "data": {
      "image/png": "[encoded data removed]",
      "text/plain": [
       "<Figure size 432x288 with 1 Axes>"
      ]
     },
     "metadata": {
      "needs_background": "light"
     },
     "output_type": "display_data"
    }
   ],
   "source": [
    "loss_df.plot()"
   ]
  },
  {
   "cell_type": "code",
   "execution_count": 19,
   "metadata": {},
   "outputs": [],
   "source": [
    "prediction = my_model.predict_classes(X_test)"
   ]
  },
  {
   "cell_type": "code",
   "execution_count": 20,
   "metadata": {},
   "outputs": [],
   "source": [
    "from sklearn.metrics import classification_report"
   ]
  },
  {
   "cell_type": "code",
   "execution_count": 21,
   "metadata": {},
   "outputs": [
    {
     "name": "stdout",
     "output_type": "stream",
     "text": [
      "              precision    recall  f1-score   support\n",
      "\n",
      "           0       0.96      0.98      0.97        55\n",
      "           1       0.99      0.98      0.98        88\n",
      "\n",
      "    accuracy                           0.98       143\n",
      "   macro avg       0.98      0.98      0.98       143\n",
      "weighted avg       0.98      0.98      0.98       143\n",
      "\n"
     ]
    }
   ],
   "source": [
    "print(classification_report(y_test,prediction))"
   ]
  },
  {
   "cell_type": "code",
   "execution_count": 22,
   "metadata": {},
   "outputs": [],
   "source": [
    "new_df = df[df['benign_0__mal_1']==1]"
   ]
  },
  {
   "cell_type": "code",
   "execution_count": 23,
   "metadata": {},
   "outputs": [],
   "source": [
    "new_df = new_df.drop('benign_0__mal_1',axis = 1)"
   ]
  },
  {
   "cell_type": "code",
   "execution_count": 24,
   "metadata": {},
   "outputs": [],
   "source": [
    "value = new_df.head(1).values"
   ]
  },
  {
   "cell_type": "code",
   "execution_count": 25,
   "metadata": {},
   "outputs": [],
   "source": [
    "features = scaler.transform(value)"
   ]
  },
  {
   "cell_type": "code",
   "execution_count": 26,
   "metadata": {},
   "outputs": [
    {
     "data": {
      "text/plain": [
       "array([[1]])"
      ]
     },
     "execution_count": 26,
     "metadata": {},
     "output_type": "execute_result"
    }
   ],
   "source": [
    "my_model.predict_classes(features)"
   ]
  },
  {
   "cell_type": "code",
   "execution_count": null,
   "metadata": {},
   "outputs": [],
   "source": []
  },
  {
   "cell_type": "code",
   "execution_count": 27,
   "metadata": {},
   "outputs": [],
   "source": [
    "new_df1 = df[df['benign_0__mal_1'] == 0]"
   ]
  },
  {
   "cell_type": "code",
   "execution_count": 28,
   "metadata": {},
   "outputs": [],
   "source": [
    "new_df1 = new_df1.drop('benign_0__mal_1', axis = 1)"
   ]
  },
  {
   "cell_type": "code",
   "execution_count": 29,
   "metadata": {},
   "outputs": [],
   "source": [
    "value = new_df1.head(1).values"
   ]
  },
  {
   "cell_type": "code",
   "execution_count": 30,
   "metadata": {},
   "outputs": [],
   "source": [
    "features1 = scaler.transform(value)"
   ]
  },
  {
   "cell_type": "code",
   "execution_count": 31,
   "metadata": {},
   "outputs": [
    {
     "data": {
      "text/plain": [
       "array([[0]])"
      ]
     },
     "execution_count": 31,
     "metadata": {},
     "output_type": "execute_result"
    }
   ],
   "source": [
    "my_model.predict_classes(features1)"
   ]
  },
  {
   "cell_type": "code",
   "execution_count": null,
   "metadata": {},
   "outputs": [],
   "source": []
  }
 ],
 "metadata": {
  "kernelspec": {
   "display_name": "Python 3",
   "language": "python",
   "name": "python3"
  },
  "language_info": {
   "codemirror_mode": {
    "name": "ipython",
    "version": 3
   },
   "file_extension": ".py",
   "mimetype": "text/x-python",
   "name": "python",
   "nbconvert_exporter": "python",
   "pygments_lexer": "ipython3",
   "version": "3.7.7"
  }
 },
 "nbformat": 4,
 "nbformat_minor": 4
}
